{
 "cells": [
  {
   "cell_type": "markdown",
   "metadata": {},
   "source": [
    "Monte Carlo Integration"
   ]
  },
  {
   "cell_type": "code",
   "execution_count": 1,
   "metadata": {},
   "outputs": [],
   "source": [
    "import numpy as np\n",
    "import matplotlib.pyplot as plt\n",
    "\n",
    "import scipy"
   ]
  },
  {
   "cell_type": "code",
   "execution_count": 110,
   "metadata": {},
   "outputs": [
    {
     "name": "stdout",
     "output_type": "stream",
     "text": [
      "(2.0, 7.105427357601002e-21) (-0.4999077179325677, 3.330406043305134e-07) (5.335784767752431, 5.690104958655285e-06)\n"
     ]
    }
   ],
   "source": [
    "# Task 1 & 2(a to c)\n",
    "\n",
    "def f_1(x):\n",
    "    return 2\n",
    "\n",
    "def f_2(x):\n",
    "    return -x\n",
    "\n",
    "def f_3(x):\n",
    "    return x**2\n",
    "\n",
    "def uni_mc_integration(f, a, b, n = 10000):\n",
    "\n",
    "    vals = np.random.uniform(a, b, n)\n",
    "    y = [f(val) for val in vals]\n",
    "    y_mean = np.sum(y)/n\n",
    "\n",
    "    ans = (b-a) * y_mean\n",
    "    err = 1/n*( np.sum(np.square(y)/n) - y_mean**2 )\n",
    "    \n",
    "    return ans, err\n",
    "\n",
    "x_1 = uni_mc_integration(f_1,  0, 1, 250000)\n",
    "x_2 = uni_mc_integration(f_2,  0, 1, 250000)\n",
    "x_3 = uni_mc_integration(f_3, -2, 2, 250000)\n",
    "\n",
    "print(x_1,x_2,x_3)"
   ]
  },
  {
   "cell_type": "code",
   "execution_count": 7,
   "metadata": {},
   "outputs": [
    {
     "name": "stdout",
     "output_type": "stream",
     "text": [
      "(0.7485134092429161, 9.893787074719258e-06)\n"
     ]
    }
   ],
   "source": [
    "# Task 2 d\n",
    "\n",
    "def f_4(x, y):\n",
    "    return x*y + x\n",
    "\n",
    "def bi_mc_integration(f, a, b, n = 10000):\n",
    "\n",
    "    vals_x = np.random.uniform(a, b, n)\n",
    "    vals_y = np.random.uniform(a, b, n)\n",
    "    y = [f(vals_x, vals_y) for val in (vals_x, vals_y)]\n",
    "    \n",
    "    y_mean = (np.sum(y[0])/n+np.sum(y[1])/n)/2\n",
    "\n",
    "    ans = (b-a)*(b-a) * y_mean\n",
    "    \n",
    "    # need to update error estimation for 2d\n",
    "    err = 1/n*( np.sum(np.square(y)/n) - y_mean**2 )\n",
    "\n",
    "    return ans, err\n",
    "\n",
    "x_4 =  bi_mc_integration(f_4,  0, 1, 100000)\n",
    "print(x_4)"
   ]
  },
  {
   "cell_type": "code",
   "execution_count": 141,
   "metadata": {},
   "outputs": [
    {
     "name": "stdout",
     "output_type": "stream",
     "text": [
      "82.37624184 168.45824\n"
     ]
    }
   ],
   "source": [
    "# Task 3\n",
    "\n",
    "def n_sphere_vol(r, ndim, n):\n",
    "    hits = 0 \n",
    "    \n",
    "    for counter in range (n):\n",
    "        hit = np.random.uniform(-r, r, ndim)\n",
    "        position = np.linalg.norm(hit)\n",
    "        if position < r:\n",
    "            hits += 1\n",
    "\n",
    "    return np.power(r*2.0, ndim) * (hits/n)\n",
    "\n",
    "print(n_sphere_vol(2.7, 3, 300000), n_sphere_vol(2.0, 5, 100000))\n",
    "print(n_sphere_vol(2.7, 5, 300000), n_sphere_vol(2.0, 5, 100000))"
   ]
  },
  {
   "cell_type": "code",
   "execution_count": 119,
   "metadata": {},
   "outputs": [
    {
     "ename": "ValueError",
     "evalue": "shapes (6,1000) and (3,1000) not aligned: 1000 (dim 1) != 3 (dim 0)",
     "output_type": "error",
     "traceback": [
      "\u001b[0;31m---------------------------------------------------------------------------\u001b[0m",
      "\u001b[0;31mValueError\u001b[0m                                Traceback (most recent call last)",
      "\u001b[0;32m/var/folders/hg/n17fww195g9887twwb23k9k40000gn/T/ipykernel_12315/655878086.py\u001b[0m in \u001b[0;36m<module>\u001b[0;34m\u001b[0m\n\u001b[1;32m     29\u001b[0m     \u001b[0;32mreturn\u001b[0m \u001b[0mans\u001b[0m \u001b[0;31m#, err\u001b[0m\u001b[0;34m\u001b[0m\u001b[0;34m\u001b[0m\u001b[0m\n\u001b[1;32m     30\u001b[0m \u001b[0;34m\u001b[0m\u001b[0m\n\u001b[0;32m---> 31\u001b[0;31m \u001b[0mnine_mc_integration\u001b[0m\u001b[0;34m(\u001b[0m\u001b[0mf_5\u001b[0m\u001b[0;34m,\u001b[0m \u001b[0;36m0\u001b[0m\u001b[0;34m,\u001b[0m \u001b[0;36m1\u001b[0m\u001b[0;34m,\u001b[0m \u001b[0mn\u001b[0m\u001b[0;34m=\u001b[0m\u001b[0;36m1000\u001b[0m\u001b[0;34m)\u001b[0m\u001b[0;34m\u001b[0m\u001b[0;34m\u001b[0m\u001b[0m\n\u001b[0m",
      "\u001b[0;32m/var/folders/hg/n17fww195g9887twwb23k9k40000gn/T/ipykernel_12315/655878086.py\u001b[0m in \u001b[0;36mnine_mc_integration\u001b[0;34m(f, a, b, n)\u001b[0m\n\u001b[1;32m     16\u001b[0m     \u001b[0mvals_cz\u001b[0m \u001b[0;34m=\u001b[0m \u001b[0mnp\u001b[0m\u001b[0;34m.\u001b[0m\u001b[0mrandom\u001b[0m\u001b[0;34m.\u001b[0m\u001b[0muniform\u001b[0m\u001b[0;34m(\u001b[0m\u001b[0ma\u001b[0m\u001b[0;34m,\u001b[0m \u001b[0mb\u001b[0m\u001b[0;34m,\u001b[0m \u001b[0mn\u001b[0m\u001b[0;34m)\u001b[0m\u001b[0;34m\u001b[0m\u001b[0;34m\u001b[0m\u001b[0m\n\u001b[1;32m     17\u001b[0m \u001b[0;34m\u001b[0m\u001b[0m\n\u001b[0;32m---> 18\u001b[0;31m     y = [f(vals_ax, vals_ay, vals_az, vals_bx, vals_by,vals_bz, vals_cx, vals_cy, \n\u001b[0m\u001b[1;32m     19\u001b[0m     \u001b[0mvals_cz\u001b[0m\u001b[0;34m)\u001b[0m \u001b[0;32mfor\u001b[0m \u001b[0mval\u001b[0m \u001b[0;32min\u001b[0m \u001b[0;34m(\u001b[0m\u001b[0mvals_ax\u001b[0m\u001b[0;34m,\u001b[0m \u001b[0mvals_ay\u001b[0m\u001b[0;34m,\u001b[0m \u001b[0mvals_az\u001b[0m\u001b[0;34m,\u001b[0m \u001b[0mvals_bx\u001b[0m\u001b[0;34m,\u001b[0m\u001b[0;34m\u001b[0m\u001b[0;34m\u001b[0m\u001b[0m\n\u001b[1;32m     20\u001b[0m     vals_by,vals_bz, vals_cx, vals_cy, vals_cz)]\n",
      "\u001b[0;32m/var/folders/hg/n17fww195g9887twwb23k9k40000gn/T/ipykernel_12315/655878086.py\u001b[0m in \u001b[0;36m<listcomp>\u001b[0;34m(.0)\u001b[0m\n\u001b[1;32m     16\u001b[0m     \u001b[0mvals_cz\u001b[0m \u001b[0;34m=\u001b[0m \u001b[0mnp\u001b[0m\u001b[0;34m.\u001b[0m\u001b[0mrandom\u001b[0m\u001b[0;34m.\u001b[0m\u001b[0muniform\u001b[0m\u001b[0;34m(\u001b[0m\u001b[0ma\u001b[0m\u001b[0;34m,\u001b[0m \u001b[0mb\u001b[0m\u001b[0;34m,\u001b[0m \u001b[0mn\u001b[0m\u001b[0;34m)\u001b[0m\u001b[0;34m\u001b[0m\u001b[0;34m\u001b[0m\u001b[0m\n\u001b[1;32m     17\u001b[0m \u001b[0;34m\u001b[0m\u001b[0m\n\u001b[0;32m---> 18\u001b[0;31m     y = [f(vals_ax, vals_ay, vals_az, vals_bx, vals_by,vals_bz, vals_cx, vals_cy, \n\u001b[0m\u001b[1;32m     19\u001b[0m     \u001b[0mvals_cz\u001b[0m\u001b[0;34m)\u001b[0m \u001b[0;32mfor\u001b[0m \u001b[0mval\u001b[0m \u001b[0;32min\u001b[0m \u001b[0;34m(\u001b[0m\u001b[0mvals_ax\u001b[0m\u001b[0;34m,\u001b[0m \u001b[0mvals_ay\u001b[0m\u001b[0;34m,\u001b[0m \u001b[0mvals_az\u001b[0m\u001b[0;34m,\u001b[0m \u001b[0mvals_bx\u001b[0m\u001b[0;34m,\u001b[0m\u001b[0;34m\u001b[0m\u001b[0;34m\u001b[0m\u001b[0m\n\u001b[1;32m     20\u001b[0m     vals_by,vals_bz, vals_cx, vals_cy, vals_cz)]\n",
      "\u001b[0;32m/var/folders/hg/n17fww195g9887twwb23k9k40000gn/T/ipykernel_12315/655878086.py\u001b[0m in \u001b[0;36mf_5\u001b[0;34m(ax, ay, az, bx, by, bz, cx, cy, cz)\u001b[0m\n\u001b[1;32m      2\u001b[0m \u001b[0;34m\u001b[0m\u001b[0m\n\u001b[1;32m      3\u001b[0m \u001b[0;32mdef\u001b[0m \u001b[0mf_5\u001b[0m\u001b[0;34m(\u001b[0m \u001b[0max\u001b[0m\u001b[0;34m,\u001b[0m \u001b[0may\u001b[0m\u001b[0;34m,\u001b[0m \u001b[0maz\u001b[0m\u001b[0;34m,\u001b[0m \u001b[0mbx\u001b[0m\u001b[0;34m,\u001b[0m \u001b[0mby\u001b[0m\u001b[0;34m,\u001b[0m \u001b[0mbz\u001b[0m\u001b[0;34m,\u001b[0m \u001b[0mcx\u001b[0m\u001b[0;34m,\u001b[0m \u001b[0mcy\u001b[0m\u001b[0;34m,\u001b[0m\u001b[0mcz\u001b[0m\u001b[0;34m)\u001b[0m\u001b[0;34m:\u001b[0m\u001b[0;34m\u001b[0m\u001b[0;34m\u001b[0m\u001b[0m\n\u001b[0;32m----> 4\u001b[0;31m     \u001b[0;32mreturn\u001b[0m \u001b[0;36m1\u001b[0m\u001b[0;34m/\u001b[0m\u001b[0;34m(\u001b[0m\u001b[0mnp\u001b[0m\u001b[0;34m.\u001b[0m\u001b[0mabsolute\u001b[0m\u001b[0;34m(\u001b[0m\u001b[0mnp\u001b[0m\u001b[0;34m.\u001b[0m\u001b[0mdot\u001b[0m\u001b[0;34m(\u001b[0m\u001b[0;34m(\u001b[0m\u001b[0;34m[\u001b[0m\u001b[0max\u001b[0m\u001b[0;34m,\u001b[0m\u001b[0may\u001b[0m\u001b[0;34m,\u001b[0m\u001b[0maz\u001b[0m\u001b[0;34m]\u001b[0m\u001b[0;34m+\u001b[0m\u001b[0;34m[\u001b[0m\u001b[0mbx\u001b[0m\u001b[0;34m,\u001b[0m\u001b[0mby\u001b[0m\u001b[0;34m,\u001b[0m\u001b[0mbz\u001b[0m\u001b[0;34m]\u001b[0m\u001b[0;34m)\u001b[0m\u001b[0;34m,\u001b[0m\u001b[0;34m[\u001b[0m\u001b[0mcx\u001b[0m\u001b[0;34m,\u001b[0m\u001b[0mcy\u001b[0m\u001b[0;34m,\u001b[0m\u001b[0mcz\u001b[0m\u001b[0;34m]\u001b[0m\u001b[0;34m)\u001b[0m\u001b[0;34m)\u001b[0m\u001b[0;34m)\u001b[0m\u001b[0;34m\u001b[0m\u001b[0;34m\u001b[0m\u001b[0m\n\u001b[0m\u001b[1;32m      5\u001b[0m \u001b[0;34m\u001b[0m\u001b[0m\n\u001b[1;32m      6\u001b[0m \u001b[0;32mdef\u001b[0m \u001b[0mnine_mc_integration\u001b[0m\u001b[0;34m(\u001b[0m\u001b[0mf\u001b[0m\u001b[0;34m,\u001b[0m \u001b[0ma\u001b[0m\u001b[0;34m,\u001b[0m \u001b[0mb\u001b[0m\u001b[0;34m,\u001b[0m \u001b[0mn\u001b[0m \u001b[0;34m=\u001b[0m \u001b[0;36m10000\u001b[0m\u001b[0;34m)\u001b[0m\u001b[0;34m:\u001b[0m\u001b[0;34m\u001b[0m\u001b[0;34m\u001b[0m\u001b[0m\n",
      "\u001b[0;32m<__array_function__ internals>\u001b[0m in \u001b[0;36mdot\u001b[0;34m(*args, **kwargs)\u001b[0m\n",
      "\u001b[0;31mValueError\u001b[0m: shapes (6,1000) and (3,1000) not aligned: 1000 (dim 1) != 3 (dim 0)"
     ]
    }
   ],
   "source": [
    "# Task 4\n",
    "\n",
    "def f_5( ax, ay, az, bx, by, bz, cx, cy,cz):\n",
    "    return 1/(np.absolute(np.dot(([ax,ay,az]+[bx,by,bz]),[cx,cy,cz])))\n",
    "\n",
    "def nine_mc_integration(f, a, b, n = 10000):\n",
    "\n",
    "    vals_ax = np.random.uniform(a, b, n)\n",
    "    vals_ay = np.random.uniform(a, b, n)\n",
    "    vals_az = np.random.uniform(a, b, n)\n",
    "    vals_bx = np.random.uniform(a, b, n)\n",
    "    vals_by = np.random.uniform(a, b, n)\n",
    "    vals_bz = np.random.uniform(a, b, n)\n",
    "    vals_cx = np.random.uniform(a, b, n)\n",
    "    vals_cy = np.random.uniform(a, b, n)\n",
    "    vals_cz = np.random.uniform(a, b, n)\n",
    "    \n",
    "    y = [f(vals_ax, vals_ay, vals_az, vals_bx, vals_by,vals_bz, vals_cx, vals_cy, \n",
    "    vals_cz) for val in (vals_ax, vals_ay, vals_az, vals_bx, \n",
    "    vals_by,vals_bz, vals_cx, vals_cy, vals_cz)]\n",
    "    \n",
    "    y_mean = (np.sum(y[0])/n+np.sum(y[1])/n)/2\n",
    "\n",
    "    ans = (b-a)**9 * y_mean\n",
    "    \n",
    "    # need to update error estimation for 2d\n",
    "    #err = 1/n*( np.sum(np.square(y)/n) - y_mean**2 )\n",
    "\n",
    "    return ans #, err\n",
    "\n",
    "nine_mc_integration(f_5, 0, 1, n=1000)"
   ]
  },
  {
   "cell_type": "code",
   "execution_count": 109,
   "metadata": {},
   "outputs": [
    {
     "name": "stdout",
     "output_type": "stream",
     "text": [
      "[0 0 1]\n",
      "0\n"
     ]
    }
   ],
   "source": [
    "# Task 5 & 6\n",
    "\n",
    "a = np.array([1,0,0])  \n",
    "b = np.array([0,1,0])  \n",
    "\n",
    "print(np.cross(a,b))\n",
    "print(np.dot(a,b))\n"
   ]
  }
 ],
 "metadata": {
  "interpreter": {
   "hash": "40d3a090f54c6569ab1632332b64b2c03c39dcf918b08424e98f38b5ae0af88f"
  },
  "kernelspec": {
   "display_name": "Python 3.9.7 ('base')",
   "language": "python",
   "name": "python3"
  },
  "language_info": {
   "codemirror_mode": {
    "name": "ipython",
    "version": 3
   },
   "file_extension": ".py",
   "mimetype": "text/x-python",
   "name": "python",
   "nbconvert_exporter": "python",
   "pygments_lexer": "ipython3",
   "version": "3.9.7"
  },
  "orig_nbformat": 4
 },
 "nbformat": 4,
 "nbformat_minor": 2
}
